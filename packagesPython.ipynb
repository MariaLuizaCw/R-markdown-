{
    "cells": [
        {
            "cell_type": "markdown",
            "source": [
                "# Installing and Loading Packages"
            ],
            "metadata": {}
        },
        {
            "cell_type": "code",
            "execution_count": null,
            "source": [
                "Packages <- c(\"ggplot2\", \"cowplot\", \"randomForest\", \"caret\", \"rpart.plot\", \"readxl\", \"DataExplorer\",\n",
                "            \"AugmenterR\", \"readxl\", \"e1071\", \"smotefamily\", \"ROSE\", \"xgboost\", \"ROCR\", \"MASS\", \"lsr\",\n",
                "            \"DescTools\", \"dplyr\", \"kernlab\", \"fastAdaboost\", \"dummies\", \"lattice\" )\n",
                "    \n",
                "\n",
                "install.packages(Packages)"
            ],
            "outputs": [],
            "metadata": {}
        },
        {
            "cell_type": "code",
            "execution_count": null,
            "source": [
                "lapply(Packages, library, character.only = TRUE)"
            ],
            "outputs": [],
            "metadata": {}
        }
    ],
    "metadata": {
        "orig_nbformat": 4,
        "language_info": {
            "name": "R",
            "codemirror_mode": "r",
            "pygments_lexer": "r",
            "mimetype": "text/x-r-source",
            "file_extension": ".r",
            "version": "4.1.0"
        },
        "kernelspec": {
            "name": "ir",
            "display_name": "R",
            "language": "R"
        }
    },
    "nbformat": 4,
    "nbformat_minor": 2
}