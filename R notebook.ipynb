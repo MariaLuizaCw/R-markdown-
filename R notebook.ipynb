{
    "cells": [
        {
            "cell_type": "markdown",
            "source": [
                "## Working with cars dataset"
            ],
            "metadata": {}
        },
        {
            "cell_type": "code",
            "execution_count": 2,
            "source": [
                "summary(cars)"
            ],
            "outputs": [
                {
                    "output_type": "display_data",
                    "data": {
                        "text/plain": [
                            "     speed           dist       \n",
                            " Min.   : 4.0   Min.   :  2.00  \n",
                            " 1st Qu.:12.0   1st Qu.: 26.00  \n",
                            " Median :15.0   Median : 36.00  \n",
                            " Mean   :15.4   Mean   : 42.98  \n",
                            " 3rd Qu.:19.0   3rd Qu.: 56.00  \n",
                            " Max.   :25.0   Max.   :120.00  "
                        ]
                    },
                    "metadata": {}
                }
            ],
            "metadata": {}
        },
        {
            "cell_type": "code",
            "execution_count": 6,
            "source": [
                "tail(cars)"
            ],
            "outputs": [
                {
                    "output_type": "display_data",
                    "data": {
                        "text/plain": [
                            "   speed dist\n",
                            "45 23     54 \n",
                            "46 24     70 \n",
                            "47 24     92 \n",
                            "48 24     93 \n",
                            "49 24    120 \n",
                            "50 25     85 "
                        ],
                        "text/markdown": [
                            "\n",
                            "A data.frame: 6 × 2\n",
                            "\n",
                            "| <!--/--> | speed &lt;dbl&gt; | dist &lt;dbl&gt; |\n",
                            "|---|---|---|\n",
                            "| 45 | 23 |  54 |\n",
                            "| 46 | 24 |  70 |\n",
                            "| 47 | 24 |  92 |\n",
                            "| 48 | 24 |  93 |\n",
                            "| 49 | 24 | 120 |\n",
                            "| 50 | 25 |  85 |\n",
                            "\n"
                        ],
                        "text/latex": [
                            "A data.frame: 6 × 2\n",
                            "\\begin{tabular}{r|ll}\n",
                            "  & speed & dist\\\\\n",
                            "  & <dbl> & <dbl>\\\\\n",
                            "\\hline\n",
                            "\t45 & 23 &  54\\\\\n",
                            "\t46 & 24 &  70\\\\\n",
                            "\t47 & 24 &  92\\\\\n",
                            "\t48 & 24 &  93\\\\\n",
                            "\t49 & 24 & 120\\\\\n",
                            "\t50 & 25 &  85\\\\\n",
                            "\\end{tabular}\n"
                        ],
                        "text/html": [
                            "<table class=\"dataframe\">\n",
                            "<caption>A data.frame: 6 × 2</caption>\n",
                            "<thead>\n",
                            "\t<tr><th></th><th scope=col>speed</th><th scope=col>dist</th></tr>\n",
                            "\t<tr><th></th><th scope=col>&lt;dbl&gt;</th><th scope=col>&lt;dbl&gt;</th></tr>\n",
                            "</thead>\n",
                            "<tbody>\n",
                            "\t<tr><th scope=row>45</th><td>23</td><td> 54</td></tr>\n",
                            "\t<tr><th scope=row>46</th><td>24</td><td> 70</td></tr>\n",
                            "\t<tr><th scope=row>47</th><td>24</td><td> 92</td></tr>\n",
                            "\t<tr><th scope=row>48</th><td>24</td><td> 93</td></tr>\n",
                            "\t<tr><th scope=row>49</th><td>24</td><td>120</td></tr>\n",
                            "\t<tr><th scope=row>50</th><td>25</td><td> 85</td></tr>\n",
                            "</tbody>\n",
                            "</table>\n"
                        ]
                    },
                    "metadata": {}
                }
            ],
            "metadata": {}
        },
        {
            "cell_type": "code",
            "execution_count": 4,
            "source": [
                "head(cars)"
            ],
            "outputs": [
                {
                    "output_type": "display_data",
                    "data": {
                        "text/plain": [
                            "  speed dist\n",
                            "1 4      2  \n",
                            "2 4     10  \n",
                            "3 7      4  \n",
                            "4 7     22  \n",
                            "5 8     16  \n",
                            "6 9     10  "
                        ],
                        "text/markdown": [
                            "\n",
                            "A data.frame: 6 × 2\n",
                            "\n",
                            "| <!--/--> | speed &lt;dbl&gt; | dist &lt;dbl&gt; |\n",
                            "|---|---|---|\n",
                            "| 1 | 4 |  2 |\n",
                            "| 2 | 4 | 10 |\n",
                            "| 3 | 7 |  4 |\n",
                            "| 4 | 7 | 22 |\n",
                            "| 5 | 8 | 16 |\n",
                            "| 6 | 9 | 10 |\n",
                            "\n"
                        ],
                        "text/latex": [
                            "A data.frame: 6 × 2\n",
                            "\\begin{tabular}{r|ll}\n",
                            "  & speed & dist\\\\\n",
                            "  & <dbl> & <dbl>\\\\\n",
                            "\\hline\n",
                            "\t1 & 4 &  2\\\\\n",
                            "\t2 & 4 & 10\\\\\n",
                            "\t3 & 7 &  4\\\\\n",
                            "\t4 & 7 & 22\\\\\n",
                            "\t5 & 8 & 16\\\\\n",
                            "\t6 & 9 & 10\\\\\n",
                            "\\end{tabular}\n"
                        ],
                        "text/html": [
                            "<table class=\"dataframe\">\n",
                            "<caption>A data.frame: 6 × 2</caption>\n",
                            "<thead>\n",
                            "\t<tr><th></th><th scope=col>speed</th><th scope=col>dist</th></tr>\n",
                            "\t<tr><th></th><th scope=col>&lt;dbl&gt;</th><th scope=col>&lt;dbl&gt;</th></tr>\n",
                            "</thead>\n",
                            "<tbody>\n",
                            "\t<tr><th scope=row>1</th><td>4</td><td> 2</td></tr>\n",
                            "\t<tr><th scope=row>2</th><td>4</td><td>10</td></tr>\n",
                            "\t<tr><th scope=row>3</th><td>7</td><td> 4</td></tr>\n",
                            "\t<tr><th scope=row>4</th><td>7</td><td>22</td></tr>\n",
                            "\t<tr><th scope=row>5</th><td>8</td><td>16</td></tr>\n",
                            "\t<tr><th scope=row>6</th><td>9</td><td>10</td></tr>\n",
                            "</tbody>\n",
                            "</table>\n"
                        ]
                    },
                    "metadata": {}
                }
            ],
            "metadata": {}
        }
    ],
    "metadata": {
        "orig_nbformat": 4,
        "language_info": {
            "name": "R",
            "codemirror_mode": "r",
            "pygments_lexer": "r",
            "mimetype": "text/x-r-source",
            "file_extension": ".r",
            "version": "4.1.0"
        },
        "kernelspec": {
            "name": "ir",
            "display_name": "R",
            "language": "R"
        }
    },
    "nbformat": 4,
    "nbformat_minor": 2
}