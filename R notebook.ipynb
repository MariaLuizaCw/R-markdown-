{
    "cells": [
        {
            "cell_type": "markdown",
            "source": [
                "## Working with cars dataset"
            ],
            "metadata": {}
        },
        {
            "cell_type": "code",
            "execution_count": 4,
            "source": [
                "summary(cars)"
            ],
            "outputs": [
                {
                    "output_type": "display_data",
                    "data": {
                        "text/plain": [
                            "     speed           dist       \n",
                            " Min.   : 4.0   Min.   :  2.00  \n",
                            " 1st Qu.:12.0   1st Qu.: 26.00  \n",
                            " Median :15.0   Median : 36.00  \n",
                            " Mean   :15.4   Mean   : 42.98  \n",
                            " 3rd Qu.:19.0   3rd Qu.: 56.00  \n",
                            " Max.   :25.0   Max.   :120.00  "
                        ]
                    },
                    "metadata": {}
                }
            ],
            "metadata": {}
        },
        {
            "cell_type": "code",
            "execution_count": 3,
            "source": [
                "plot(cars)"
            ],
            "outputs": [
                {
                    "output_type": "display_data",
                    "data": {
                        "image/png": "[encoded data removed]",
                        "text/plain": [
                            "plot without title"
                        ]
                    },
                    "metadata": {
                        "image/png": {
                            "width": 420,
                            "height": 420
                        }
                    }
                }
            ],
            "metadata": {}
        },
        {
            "cell_type": "code",
            "execution_count": 3,
            "source": [
                "head(cars)"
            ],
            "outputs": [
                {
                    "output_type": "display_data",
                    "data": {
                        "text/html": [
                            "<table class=\"dataframe\">\n",
                            "<caption>A data.frame: 6 × 2</caption>\n",
                            "<thead>\n",
                            "\t<tr><th></th><th scope=col>speed</th><th scope=col>dist</th></tr>\n",
                            "\t<tr><th></th><th scope=col>&lt;dbl&gt;</th><th scope=col>&lt;dbl&gt;</th></tr>\n",
                            "</thead>\n",
                            "<tbody>\n",
                            "\t<tr><th scope=row>1</th><td>4</td><td> 2</td></tr>\n",
                            "\t<tr><th scope=row>2</th><td>4</td><td>10</td></tr>\n",
                            "\t<tr><th scope=row>3</th><td>7</td><td> 4</td></tr>\n",
                            "\t<tr><th scope=row>4</th><td>7</td><td>22</td></tr>\n",
                            "\t<tr><th scope=row>5</th><td>8</td><td>16</td></tr>\n",
                            "\t<tr><th scope=row>6</th><td>9</td><td>10</td></tr>\n",
                            "</tbody>\n",
                            "</table>\n"
                        ],
                        "text/latex": [
                            "A data.frame: 6 × 2\n",
                            "\\begin{tabular}{r|ll}\n",
                            "  & speed & dist\\\\\n",
                            "  & <dbl> & <dbl>\\\\\n",
                            "\\hline\n",
                            "\t1 & 4 &  2\\\\\n",
                            "\t2 & 4 & 10\\\\\n",
                            "\t3 & 7 &  4\\\\\n",
                            "\t4 & 7 & 22\\\\\n",
                            "\t5 & 8 & 16\\\\\n",
                            "\t6 & 9 & 10\\\\\n",
                            "\\end{tabular}\n"
                        ],
                        "text/markdown": [
                            "\n",
                            "A data.frame: 6 × 2\n",
                            "\n",
                            "| <!--/--> | speed &lt;dbl&gt; | dist &lt;dbl&gt; |\n",
                            "|---|---|---|\n",
                            "| 1 | 4 |  2 |\n",
                            "| 2 | 4 | 10 |\n",
                            "| 3 | 7 |  4 |\n",
                            "| 4 | 7 | 22 |\n",
                            "| 5 | 8 | 16 |\n",
                            "| 6 | 9 | 10 |\n",
                            "\n"
                        ],
                        "text/plain": [
                            "  speed dist\n",
                            "1 4      2  \n",
                            "2 4     10  \n",
                            "3 7      4  \n",
                            "4 7     22  \n",
                            "5 8     16  \n",
                            "6 9     10  "
                        ]
                    },
                    "metadata": {}
                }
            ],
            "metadata": {}
        },
        {
            "cell_type": "code",
            "execution_count": 1,
            "source": [
                "teste <- 1\n",
                "teste <- 2"
            ],
            "outputs": [],
            "metadata": {}
        }
    ],
    "metadata": {
        "orig_nbformat": 4,
        "language_info": {
            "name": "R",
            "codemirror_mode": "r",
            "pygments_lexer": "r",
            "mimetype": "text/x-r-source",
            "file_extension": ".r",
            "version": "4.1.0"
        },
        "kernelspec": {
            "name": "ir",
            "display_name": "R",
            "language": "R"
        }
    },
    "nbformat": 4,
    "nbformat_minor": 2
}