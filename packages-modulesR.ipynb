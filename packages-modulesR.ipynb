{
    "cells": [
        {
            "cell_type": "markdown",
            "source": [
                "# Installing and Loading Packages"
            ],
            "metadata": {}
        },
        {
            "cell_type": "code",
            "execution_count": null,
            "source": [
                "Packages <- c(\"ggplot2\", \"cowplot\", \"randomForest\", \"caret\", \"rpart.plot\", \"readxl\", \"DataExplorer\",\n",
                "            \"AugmenterR\", \"readxl\", \"e1071\", \"smotefamily\", \"ROSE\", \"xgboost\", \"ROCR\", \"MASS\", \"lsr\",\n",
                "            \"DescTools\", \"dplyr\", \"kernlab\", \"fastAdaboost\", \"dummies\", \"lattice\", \"modules\")\n",
                "    \n",
                "\n",
                "install.packages(Packages)"
            ],
            "outputs": [],
            "metadata": {}
        },
        {
            "cell_type": "code",
            "execution_count": null,
            "source": [
                "lapply(Packages, library, character.only = TRUE)"
            ],
            "outputs": [],
            "metadata": {}
        },
        {
            "cell_type": "markdown",
            "source": [
                "# Modules "
            ],
            "metadata": {}
        },
        {
            "cell_type": "code",
            "execution_count": 13,
            "source": [
                "m <- modules::use(\"modules/modules.R\")\n",
                "m$foo2()\n",
                "m$foox(3)"
            ],
            "outputs": [
                {
                    "output_type": "display_data",
                    "data": {
                        "text/html": [
                            "'foo2'"
                        ],
                        "text/latex": [
                            "'foo2'"
                        ],
                        "text/markdown": [
                            "'foo2'"
                        ],
                        "text/plain": [
                            "[1] \"foo2\""
                        ]
                    },
                    "metadata": {}
                },
                {
                    "output_type": "display_data",
                    "data": {
                        "text/html": [
                            "3"
                        ],
                        "text/latex": [
                            "3"
                        ],
                        "text/markdown": [
                            "3"
                        ],
                        "text/plain": [
                            "[1] 3"
                        ]
                    },
                    "metadata": {}
                }
            ],
            "metadata": {}
        }
    ],
    "metadata": {
        "orig_nbformat": 4,
        "language_info": {
            "name": "R",
            "codemirror_mode": "r",
            "pygments_lexer": "r",
            "mimetype": "text/x-r-source",
            "file_extension": ".r",
            "version": "4.1.0"
        },
        "kernelspec": {
            "name": "ir",
            "display_name": "R",
            "language": "R"
        }
    },
    "nbformat": 4,
    "nbformat_minor": 2
}